{
 "cells": [
  {
   "cell_type": "markdown",
   "metadata": {
    "slideshow": {
     "slide_type": "slide"
    }
   },
   "source": [
    "# Visualizing FordGoBike Data(2019)\n",
    "##  by Apurva Verma\n"
   ]
  },
  {
   "cell_type": "markdown",
   "metadata": {
    "slideshow": {
     "slide_type": "slide"
    }
   },
   "source": [
    "## Introduction\n",
    "FordGoBike is a regional public bicycle sharing system in the San Francisco Bay Area, California. Beginning operation in August 2013 as Bay Area Bike Share, the Ford GoBike system currently has over 2,600 bicycles in 262 stations across San Francisco, East Bay and San Jose. In this project, I will perform an exploratory analysis of data provided by Ford GoBike, a bike-share system provider for the year 2019."
   ]
  },
  {
   "cell_type": "markdown",
   "metadata": {
    "slideshow": {
     "slide_type": "skip"
    }
   },
   "source": [
    "## Table of content:\n",
    "1. Gathering data  \n",
    "2. Analyzing data   \n",
    "3. Cleaning data    \n",
    "4. Visualizing data "
   ]
  },
  {
   "cell_type": "markdown",
   "metadata": {
    "slideshow": {
     "slide_type": "slide"
    }
   },
   "source": [
    "## Investigation Overview\n",
    "In this investigation, I wanted to look at the customer behaviour characteristics of the bay Area bike share system. The main focus was on the time i.e. month, weekday and hour."
   ]
  },
  {
   "cell_type": "markdown",
   "metadata": {
    "slideshow": {
     "slide_type": "skip"
    }
   },
   "source": [
    "## Gathering Data"
   ]
  },
  {
   "cell_type": "code",
   "execution_count": 1,
   "metadata": {
    "slideshow": {
     "slide_type": "skip"
    }
   },
   "outputs": [],
   "source": [
    "import numpy as np\n",
    "import pandas as pd\n",
    "import matplotlib.pyplot as plt\n",
    "import seaborn as sb\n",
    "import os\n",
    "import glob\n",
    "\n",
    "%matplotlib inline\n"
   ]
  },
  {
   "cell_type": "code",
   "execution_count": 2,
   "metadata": {
    "slideshow": {
     "slide_type": "skip"
    }
   },
   "outputs": [
    {
     "name": "stderr",
     "output_type": "stream",
     "text": [
      "C:\\Users\\hp\\anaconda3\\lib\\site-packages\\IPython\\core\\interactiveshell.py:3254: DtypeWarning: Columns (14) have mixed types.Specify dtype option on import or set low_memory=False.\n",
      "  if (await self.run_code(code, result,  async_=asy)):\n",
      "C:\\Users\\hp\\anaconda3\\lib\\site-packages\\IPython\\core\\interactiveshell.py:3254: DtypeWarning: Columns (13,14) have mixed types.Specify dtype option on import or set low_memory=False.\n",
      "  if (await self.run_code(code, result,  async_=asy)):\n",
      "C:\\Users\\hp\\anaconda3\\lib\\site-packages\\IPython\\core\\interactiveshell.py:3254: DtypeWarning: Columns (13) have mixed types.Specify dtype option on import or set low_memory=False.\n",
      "  if (await self.run_code(code, result,  async_=asy)):\n"
     ]
    },
    {
     "name": "stdout",
     "output_type": "stream",
     "text": [
      "(2506983, 15)\n"
     ]
    },
    {
     "data": {
      "text/html": [
       "<div>\n",
       "<style scoped>\n",
       "    .dataframe tbody tr th:only-of-type {\n",
       "        vertical-align: middle;\n",
       "    }\n",
       "\n",
       "    .dataframe tbody tr th {\n",
       "        vertical-align: top;\n",
       "    }\n",
       "\n",
       "    .dataframe thead th {\n",
       "        text-align: right;\n",
       "    }\n",
       "</style>\n",
       "<table border=\"1\" class=\"dataframe\">\n",
       "  <thead>\n",
       "    <tr style=\"text-align: right;\">\n",
       "      <th></th>\n",
       "      <th>duration_sec</th>\n",
       "      <th>start_time</th>\n",
       "      <th>end_time</th>\n",
       "      <th>start_station_id</th>\n",
       "      <th>start_station_name</th>\n",
       "      <th>start_station_latitude</th>\n",
       "      <th>start_station_longitude</th>\n",
       "      <th>end_station_id</th>\n",
       "      <th>end_station_name</th>\n",
       "      <th>end_station_latitude</th>\n",
       "      <th>end_station_longitude</th>\n",
       "      <th>bike_id</th>\n",
       "      <th>user_type</th>\n",
       "      <th>bike_share_for_all_trip</th>\n",
       "      <th>rental_access_method</th>\n",
       "    </tr>\n",
       "  </thead>\n",
       "  <tbody>\n",
       "    <tr>\n",
       "      <th>950946</th>\n",
       "      <td>1609</td>\n",
       "      <td>2019-05-17 17:14:44.2140</td>\n",
       "      <td>2019-05-17 17:41:33.5440</td>\n",
       "      <td>81.0</td>\n",
       "      <td>Berry St at 4th St</td>\n",
       "      <td>37.775880</td>\n",
       "      <td>-122.393170</td>\n",
       "      <td>131.0</td>\n",
       "      <td>22nd St at Dolores St</td>\n",
       "      <td>37.755000</td>\n",
       "      <td>-122.425728</td>\n",
       "      <td>1954</td>\n",
       "      <td>Subscriber</td>\n",
       "      <td>No</td>\n",
       "      <td>NaN</td>\n",
       "    </tr>\n",
       "    <tr>\n",
       "      <th>1564581</th>\n",
       "      <td>1550</td>\n",
       "      <td>2019-08-22 18:50:15.3410</td>\n",
       "      <td>2019-08-22 19:16:06.0640</td>\n",
       "      <td>97.0</td>\n",
       "      <td>14th St at Mission St</td>\n",
       "      <td>37.768265</td>\n",
       "      <td>-122.420110</td>\n",
       "      <td>15.0</td>\n",
       "      <td>San Francisco Ferry Building (Harry Bridges Pl...</td>\n",
       "      <td>37.795392</td>\n",
       "      <td>-122.394203</td>\n",
       "      <td>9677</td>\n",
       "      <td>Subscriber</td>\n",
       "      <td>No</td>\n",
       "      <td>NaN</td>\n",
       "    </tr>\n",
       "    <tr>\n",
       "      <th>1760055</th>\n",
       "      <td>136</td>\n",
       "      <td>2019-09-24 17:57:03.9600</td>\n",
       "      <td>2019-09-24 17:59:20.1020</td>\n",
       "      <td>310.0</td>\n",
       "      <td>San Fernando St at 4th St</td>\n",
       "      <td>37.335885</td>\n",
       "      <td>-121.885660</td>\n",
       "      <td>279.0</td>\n",
       "      <td>Santa Clara St at 7th St</td>\n",
       "      <td>37.339146</td>\n",
       "      <td>-121.884105</td>\n",
       "      <td>1838</td>\n",
       "      <td>Subscriber</td>\n",
       "      <td>Yes</td>\n",
       "      <td>NaN</td>\n",
       "    </tr>\n",
       "    <tr>\n",
       "      <th>629777</th>\n",
       "      <td>177</td>\n",
       "      <td>2019-03-01 09:10:03.8070</td>\n",
       "      <td>2019-03-01 09:13:01.0930</td>\n",
       "      <td>27.0</td>\n",
       "      <td>Beale St at Harrison St</td>\n",
       "      <td>37.788059</td>\n",
       "      <td>-122.391865</td>\n",
       "      <td>50.0</td>\n",
       "      <td>2nd St at Townsend St</td>\n",
       "      <td>37.780526</td>\n",
       "      <td>-122.390288</td>\n",
       "      <td>4389</td>\n",
       "      <td>Subscriber</td>\n",
       "      <td>No</td>\n",
       "      <td>NaN</td>\n",
       "    </tr>\n",
       "    <tr>\n",
       "      <th>1917423</th>\n",
       "      <td>320</td>\n",
       "      <td>2019-09-03 18:55:47.5060</td>\n",
       "      <td>2019-09-03 19:01:07.7810</td>\n",
       "      <td>66.0</td>\n",
       "      <td>3rd St at Townsend St</td>\n",
       "      <td>37.778742</td>\n",
       "      <td>-122.392741</td>\n",
       "      <td>284.0</td>\n",
       "      <td>Yerba Buena Center for the Arts (Howard St at ...</td>\n",
       "      <td>37.784872</td>\n",
       "      <td>-122.400876</td>\n",
       "      <td>9682</td>\n",
       "      <td>Subscriber</td>\n",
       "      <td>No</td>\n",
       "      <td>NaN</td>\n",
       "    </tr>\n",
       "  </tbody>\n",
       "</table>\n",
       "</div>"
      ],
      "text/plain": [
       "         duration_sec                start_time                  end_time  \\\n",
       "950946           1609  2019-05-17 17:14:44.2140  2019-05-17 17:41:33.5440   \n",
       "1564581          1550  2019-08-22 18:50:15.3410  2019-08-22 19:16:06.0640   \n",
       "1760055           136  2019-09-24 17:57:03.9600  2019-09-24 17:59:20.1020   \n",
       "629777            177  2019-03-01 09:10:03.8070  2019-03-01 09:13:01.0930   \n",
       "1917423           320  2019-09-03 18:55:47.5060  2019-09-03 19:01:07.7810   \n",
       "\n",
       "         start_station_id         start_station_name  start_station_latitude  \\\n",
       "950946               81.0         Berry St at 4th St               37.775880   \n",
       "1564581              97.0      14th St at Mission St               37.768265   \n",
       "1760055             310.0  San Fernando St at 4th St               37.335885   \n",
       "629777               27.0    Beale St at Harrison St               37.788059   \n",
       "1917423              66.0      3rd St at Townsend St               37.778742   \n",
       "\n",
       "         start_station_longitude  end_station_id  \\\n",
       "950946               -122.393170           131.0   \n",
       "1564581              -122.420110            15.0   \n",
       "1760055              -121.885660           279.0   \n",
       "629777               -122.391865            50.0   \n",
       "1917423              -122.392741           284.0   \n",
       "\n",
       "                                          end_station_name  \\\n",
       "950946                               22nd St at Dolores St   \n",
       "1564581  San Francisco Ferry Building (Harry Bridges Pl...   \n",
       "1760055                           Santa Clara St at 7th St   \n",
       "629777                               2nd St at Townsend St   \n",
       "1917423  Yerba Buena Center for the Arts (Howard St at ...   \n",
       "\n",
       "         end_station_latitude  end_station_longitude  bike_id   user_type  \\\n",
       "950946              37.755000            -122.425728     1954  Subscriber   \n",
       "1564581             37.795392            -122.394203     9677  Subscriber   \n",
       "1760055             37.339146            -121.884105     1838  Subscriber   \n",
       "629777              37.780526            -122.390288     4389  Subscriber   \n",
       "1917423             37.784872            -122.400876     9682  Subscriber   \n",
       "\n",
       "        bike_share_for_all_trip rental_access_method  \n",
       "950946                       No                  NaN  \n",
       "1564581                      No                  NaN  \n",
       "1760055                     Yes                  NaN  \n",
       "629777                       No                  NaN  \n",
       "1917423                      No                  NaN  "
      ]
     },
     "execution_count": 2,
     "metadata": {},
     "output_type": "execute_result"
    }
   ],
   "source": [
    "# appending all the monthly csv files for 2019 \n",
    "folder_name = 'Trip'\n",
    "frames = [pd.read_csv(f) for f in glob.glob(os.path.join(folder_name, '*tripdata.csv'))]\n",
    "result = pd.concat(frames, ignore_index=True)\n",
    "print(result.shape)\n",
    "result.sample(5)"
   ]
  },
  {
   "cell_type": "markdown",
   "metadata": {
    "slideshow": {
     "slide_type": "skip"
    }
   },
   "source": [
    "## Analyzing the data"
   ]
  },
  {
   "cell_type": "code",
   "execution_count": 3,
   "metadata": {
    "slideshow": {
     "slide_type": "skip"
    }
   },
   "outputs": [],
   "source": [
    "df= result"
   ]
  },
  {
   "cell_type": "code",
   "execution_count": 4,
   "metadata": {
    "slideshow": {
     "slide_type": "skip"
    }
   },
   "outputs": [
    {
     "data": {
      "text/html": [
       "<div>\n",
       "<style scoped>\n",
       "    .dataframe tbody tr th:only-of-type {\n",
       "        vertical-align: middle;\n",
       "    }\n",
       "\n",
       "    .dataframe tbody tr th {\n",
       "        vertical-align: top;\n",
       "    }\n",
       "\n",
       "    .dataframe thead th {\n",
       "        text-align: right;\n",
       "    }\n",
       "</style>\n",
       "<table border=\"1\" class=\"dataframe\">\n",
       "  <thead>\n",
       "    <tr style=\"text-align: right;\">\n",
       "      <th></th>\n",
       "      <th>duration_sec</th>\n",
       "      <th>start_time</th>\n",
       "      <th>end_time</th>\n",
       "      <th>start_station_id</th>\n",
       "      <th>start_station_name</th>\n",
       "      <th>start_station_latitude</th>\n",
       "      <th>start_station_longitude</th>\n",
       "      <th>end_station_id</th>\n",
       "      <th>end_station_name</th>\n",
       "      <th>end_station_latitude</th>\n",
       "      <th>end_station_longitude</th>\n",
       "      <th>bike_id</th>\n",
       "      <th>user_type</th>\n",
       "      <th>bike_share_for_all_trip</th>\n",
       "      <th>rental_access_method</th>\n",
       "    </tr>\n",
       "  </thead>\n",
       "  <tbody>\n",
       "    <tr>\n",
       "      <th>896766</th>\n",
       "      <td>740</td>\n",
       "      <td>2019-05-28 12:48:58.0640</td>\n",
       "      <td>2019-05-28 13:01:18.0860</td>\n",
       "      <td>59.0</td>\n",
       "      <td>S Van Ness Ave at Market St</td>\n",
       "      <td>37.774814</td>\n",
       "      <td>-122.418954</td>\n",
       "      <td>25.0</td>\n",
       "      <td>Howard St at 2nd St</td>\n",
       "      <td>37.786928</td>\n",
       "      <td>-122.398113</td>\n",
       "      <td>2461</td>\n",
       "      <td>Subscriber</td>\n",
       "      <td>No</td>\n",
       "      <td>NaN</td>\n",
       "    </tr>\n",
       "    <tr>\n",
       "      <th>1667700</th>\n",
       "      <td>1398</td>\n",
       "      <td>2019-08-08 06:56:00.5770</td>\n",
       "      <td>2019-08-08 07:19:19.3810</td>\n",
       "      <td>380.0</td>\n",
       "      <td>Masonic Ave at Turk St</td>\n",
       "      <td>37.779047</td>\n",
       "      <td>-122.447291</td>\n",
       "      <td>67.0</td>\n",
       "      <td>San Francisco Caltrain Station 2  (Townsend St...</td>\n",
       "      <td>37.776639</td>\n",
       "      <td>-122.395526</td>\n",
       "      <td>1591</td>\n",
       "      <td>Subscriber</td>\n",
       "      <td>No</td>\n",
       "      <td>NaN</td>\n",
       "    </tr>\n",
       "    <tr>\n",
       "      <th>593945</th>\n",
       "      <td>422</td>\n",
       "      <td>2019-03-06 18:20:01.6750</td>\n",
       "      <td>2019-03-06 18:27:04.5810</td>\n",
       "      <td>176.0</td>\n",
       "      <td>MacArthur BART Station</td>\n",
       "      <td>37.828410</td>\n",
       "      <td>-122.266315</td>\n",
       "      <td>210.0</td>\n",
       "      <td>45th St at Manila</td>\n",
       "      <td>37.833294</td>\n",
       "      <td>-122.256224</td>\n",
       "      <td>371</td>\n",
       "      <td>Subscriber</td>\n",
       "      <td>No</td>\n",
       "      <td>NaN</td>\n",
       "    </tr>\n",
       "    <tr>\n",
       "      <th>1849464</th>\n",
       "      <td>1159</td>\n",
       "      <td>2019-09-12 17:13:52.2030</td>\n",
       "      <td>2019-09-12 17:33:11.7320</td>\n",
       "      <td>123.0</td>\n",
       "      <td>Folsom St at 19th St</td>\n",
       "      <td>37.760594</td>\n",
       "      <td>-122.414817</td>\n",
       "      <td>419.0</td>\n",
       "      <td>Fern St at Polk St</td>\n",
       "      <td>37.788197</td>\n",
       "      <td>-122.420373</td>\n",
       "      <td>10025</td>\n",
       "      <td>Subscriber</td>\n",
       "      <td>No</td>\n",
       "      <td>NaN</td>\n",
       "    </tr>\n",
       "    <tr>\n",
       "      <th>2406907</th>\n",
       "      <td>1167</td>\n",
       "      <td>2019-12-15 11:14:06.2710</td>\n",
       "      <td>2019-12-15 11:33:33.9200</td>\n",
       "      <td>324.0</td>\n",
       "      <td>Union Square (Powell St at Post St)</td>\n",
       "      <td>37.788300</td>\n",
       "      <td>-122.408531</td>\n",
       "      <td>123.0</td>\n",
       "      <td>Folsom St at 19th St</td>\n",
       "      <td>37.760594</td>\n",
       "      <td>-122.414817</td>\n",
       "      <td>9850</td>\n",
       "      <td>Subscriber</td>\n",
       "      <td>NaN</td>\n",
       "      <td>NaN</td>\n",
       "    </tr>\n",
       "    <tr>\n",
       "      <th>2195623</th>\n",
       "      <td>1355</td>\n",
       "      <td>2019-11-23 13:10:40.7720</td>\n",
       "      <td>2019-11-23 13:33:16.6340</td>\n",
       "      <td>271.0</td>\n",
       "      <td>San Pablo Park</td>\n",
       "      <td>37.855783</td>\n",
       "      <td>-122.283127</td>\n",
       "      <td>240.0</td>\n",
       "      <td>Haste St at Telegraph Ave</td>\n",
       "      <td>37.866043</td>\n",
       "      <td>-122.258804</td>\n",
       "      <td>12225</td>\n",
       "      <td>Customer</td>\n",
       "      <td>No</td>\n",
       "      <td>NaN</td>\n",
       "    </tr>\n",
       "    <tr>\n",
       "      <th>2295317</th>\n",
       "      <td>413</td>\n",
       "      <td>2019-11-09 11:50:43.8070</td>\n",
       "      <td>2019-11-09 11:57:37.7520</td>\n",
       "      <td>81.0</td>\n",
       "      <td>Berry St at 4th St</td>\n",
       "      <td>37.775880</td>\n",
       "      <td>-122.393170</td>\n",
       "      <td>104.0</td>\n",
       "      <td>4th St at 16th St</td>\n",
       "      <td>37.767045</td>\n",
       "      <td>-122.390833</td>\n",
       "      <td>10058</td>\n",
       "      <td>Subscriber</td>\n",
       "      <td>No</td>\n",
       "      <td>NaN</td>\n",
       "    </tr>\n",
       "    <tr>\n",
       "      <th>2448328</th>\n",
       "      <td>404</td>\n",
       "      <td>2019-12-06 22:38:45.3200</td>\n",
       "      <td>2019-12-06 22:45:29.8180</td>\n",
       "      <td>364.0</td>\n",
       "      <td>China Basin St at 3rd St</td>\n",
       "      <td>37.772000</td>\n",
       "      <td>-122.389970</td>\n",
       "      <td>126.0</td>\n",
       "      <td>Esprit Park</td>\n",
       "      <td>37.761634</td>\n",
       "      <td>-122.390648</td>\n",
       "      <td>586</td>\n",
       "      <td>Subscriber</td>\n",
       "      <td>NaN</td>\n",
       "      <td>NaN</td>\n",
       "    </tr>\n",
       "    <tr>\n",
       "      <th>1364931</th>\n",
       "      <td>662</td>\n",
       "      <td>2019-07-10 09:35:10.6820</td>\n",
       "      <td>2019-07-10 09:46:13.3540</td>\n",
       "      <td>67.0</td>\n",
       "      <td>San Francisco Caltrain Station 2  (Townsend St...</td>\n",
       "      <td>37.776639</td>\n",
       "      <td>-122.395526</td>\n",
       "      <td>16.0</td>\n",
       "      <td>Steuart St at Market St</td>\n",
       "      <td>37.794130</td>\n",
       "      <td>-122.394430</td>\n",
       "      <td>608</td>\n",
       "      <td>Subscriber</td>\n",
       "      <td>No</td>\n",
       "      <td>NaN</td>\n",
       "    </tr>\n",
       "    <tr>\n",
       "      <th>1388013</th>\n",
       "      <td>902</td>\n",
       "      <td>2019-07-05 22:16:29.4290</td>\n",
       "      <td>2019-07-05 22:31:32.3830</td>\n",
       "      <td>8.0</td>\n",
       "      <td>The Embarcadero at Vallejo St</td>\n",
       "      <td>37.799953</td>\n",
       "      <td>-122.398525</td>\n",
       "      <td>8.0</td>\n",
       "      <td>The Embarcadero at Vallejo St</td>\n",
       "      <td>37.799953</td>\n",
       "      <td>-122.398525</td>\n",
       "      <td>823</td>\n",
       "      <td>Customer</td>\n",
       "      <td>No</td>\n",
       "      <td>NaN</td>\n",
       "    </tr>\n",
       "    <tr>\n",
       "      <th>465005</th>\n",
       "      <td>1078</td>\n",
       "      <td>2019-03-21 08:14:45.4660</td>\n",
       "      <td>2019-03-21 08:32:43.5380</td>\n",
       "      <td>71.0</td>\n",
       "      <td>Broderick St at Oak St</td>\n",
       "      <td>37.773063</td>\n",
       "      <td>-122.439078</td>\n",
       "      <td>25.0</td>\n",
       "      <td>Howard St at 2nd St</td>\n",
       "      <td>37.787522</td>\n",
       "      <td>-122.397405</td>\n",
       "      <td>5346</td>\n",
       "      <td>Subscriber</td>\n",
       "      <td>No</td>\n",
       "      <td>NaN</td>\n",
       "    </tr>\n",
       "    <tr>\n",
       "      <th>1457849</th>\n",
       "      <td>1447</td>\n",
       "      <td>2019-07-25 19:17:29</td>\n",
       "      <td>2019-07-25 19:41:36</td>\n",
       "      <td>42.0</td>\n",
       "      <td>San Francisco City Hall (Polk St at Grove St)</td>\n",
       "      <td>37.778650</td>\n",
       "      <td>-122.418230</td>\n",
       "      <td>NaN</td>\n",
       "      <td>NaN</td>\n",
       "      <td>37.767313</td>\n",
       "      <td>-122.445752</td>\n",
       "      <td>535763</td>\n",
       "      <td>Subscriber</td>\n",
       "      <td>NaN</td>\n",
       "      <td>clipper</td>\n",
       "    </tr>\n",
       "    <tr>\n",
       "      <th>394512</th>\n",
       "      <td>898</td>\n",
       "      <td>2019-03-29 14:07:10.0000</td>\n",
       "      <td>2019-03-29 14:22:08.6090</td>\n",
       "      <td>311.0</td>\n",
       "      <td>Paseo De San Antonio at 2nd St</td>\n",
       "      <td>37.333798</td>\n",
       "      <td>-121.886943</td>\n",
       "      <td>296.0</td>\n",
       "      <td>5th St at Virginia St</td>\n",
       "      <td>37.325998</td>\n",
       "      <td>-121.877120</td>\n",
       "      <td>4228</td>\n",
       "      <td>Subscriber</td>\n",
       "      <td>Yes</td>\n",
       "      <td>NaN</td>\n",
       "    </tr>\n",
       "    <tr>\n",
       "      <th>661428</th>\n",
       "      <td>188</td>\n",
       "      <td>2019-04-26 07:34:32.6030</td>\n",
       "      <td>2019-04-26 07:37:40.6120</td>\n",
       "      <td>255.0</td>\n",
       "      <td>Virginia St at Shattuck Ave</td>\n",
       "      <td>37.876573</td>\n",
       "      <td>-122.269528</td>\n",
       "      <td>245.0</td>\n",
       "      <td>Downtown Berkeley BART</td>\n",
       "      <td>37.870139</td>\n",
       "      <td>-122.268422</td>\n",
       "      <td>3122</td>\n",
       "      <td>Subscriber</td>\n",
       "      <td>No</td>\n",
       "      <td>NaN</td>\n",
       "    </tr>\n",
       "    <tr>\n",
       "      <th>1647798</th>\n",
       "      <td>741</td>\n",
       "      <td>2019-08-11 12:00:00.0790</td>\n",
       "      <td>2019-08-11 12:12:21.2850</td>\n",
       "      <td>79.0</td>\n",
       "      <td>7th St at Brannan St</td>\n",
       "      <td>37.773492</td>\n",
       "      <td>-122.403673</td>\n",
       "      <td>284.0</td>\n",
       "      <td>Yerba Buena Center for the Arts (Howard St at ...</td>\n",
       "      <td>37.784872</td>\n",
       "      <td>-122.400876</td>\n",
       "      <td>3125</td>\n",
       "      <td>Customer</td>\n",
       "      <td>No</td>\n",
       "      <td>NaN</td>\n",
       "    </tr>\n",
       "    <tr>\n",
       "      <th>2185511</th>\n",
       "      <td>448</td>\n",
       "      <td>2019-11-25 16:36:08.6800</td>\n",
       "      <td>2019-11-25 16:43:37.4070</td>\n",
       "      <td>34.0</td>\n",
       "      <td>Father Alfred E Boeddeker Park</td>\n",
       "      <td>37.783988</td>\n",
       "      <td>-122.412408</td>\n",
       "      <td>445.0</td>\n",
       "      <td>Natoma St at New Montgomery St</td>\n",
       "      <td>37.786553</td>\n",
       "      <td>-122.399607</td>\n",
       "      <td>1448</td>\n",
       "      <td>Subscriber</td>\n",
       "      <td>No</td>\n",
       "      <td>NaN</td>\n",
       "    </tr>\n",
       "    <tr>\n",
       "      <th>232868</th>\n",
       "      <td>313</td>\n",
       "      <td>2019-02-22 19:43:45.5230</td>\n",
       "      <td>2019-02-22 19:48:59.1190</td>\n",
       "      <td>7.0</td>\n",
       "      <td>Frank H Ogawa Plaza</td>\n",
       "      <td>37.804562</td>\n",
       "      <td>-122.271738</td>\n",
       "      <td>372.0</td>\n",
       "      <td>Madison St at 17th St</td>\n",
       "      <td>37.804037</td>\n",
       "      <td>-122.262409</td>\n",
       "      <td>5779</td>\n",
       "      <td>Customer</td>\n",
       "      <td>No</td>\n",
       "      <td>NaN</td>\n",
       "    </tr>\n",
       "    <tr>\n",
       "      <th>2398259</th>\n",
       "      <td>1752</td>\n",
       "      <td>2019-12-16 19:01:00.1770</td>\n",
       "      <td>2019-12-16 19:30:12.5990</td>\n",
       "      <td>115.0</td>\n",
       "      <td>Jackson Playground</td>\n",
       "      <td>37.765026</td>\n",
       "      <td>-122.398773</td>\n",
       "      <td>147.0</td>\n",
       "      <td>29th St at Tiffany Ave</td>\n",
       "      <td>37.744067</td>\n",
       "      <td>-122.421472</td>\n",
       "      <td>12992</td>\n",
       "      <td>Customer</td>\n",
       "      <td>NaN</td>\n",
       "      <td>NaN</td>\n",
       "    </tr>\n",
       "    <tr>\n",
       "      <th>1132294</th>\n",
       "      <td>411</td>\n",
       "      <td>2019-06-18 15:20:45.4750</td>\n",
       "      <td>2019-06-18 15:27:37.2700</td>\n",
       "      <td>431.0</td>\n",
       "      <td>Judson Ave at Gennessee St</td>\n",
       "      <td>37.728282</td>\n",
       "      <td>-122.450695</td>\n",
       "      <td>413.0</td>\n",
       "      <td>Balboa Park BART Station</td>\n",
       "      <td>37.720555</td>\n",
       "      <td>-122.447723</td>\n",
       "      <td>2981</td>\n",
       "      <td>Customer</td>\n",
       "      <td>No</td>\n",
       "      <td>NaN</td>\n",
       "    </tr>\n",
       "    <tr>\n",
       "      <th>765498</th>\n",
       "      <td>435</td>\n",
       "      <td>2019-04-11 14:36:46.6990</td>\n",
       "      <td>2019-04-11 14:44:02.5410</td>\n",
       "      <td>115.0</td>\n",
       "      <td>Jackson Playground</td>\n",
       "      <td>37.765026</td>\n",
       "      <td>-122.398773</td>\n",
       "      <td>108.0</td>\n",
       "      <td>16th St Mission BART</td>\n",
       "      <td>37.764710</td>\n",
       "      <td>-122.419957</td>\n",
       "      <td>5588</td>\n",
       "      <td>Subscriber</td>\n",
       "      <td>No</td>\n",
       "      <td>NaN</td>\n",
       "    </tr>\n",
       "  </tbody>\n",
       "</table>\n",
       "</div>"
      ],
      "text/plain": [
       "         duration_sec                start_time                  end_time  \\\n",
       "896766            740  2019-05-28 12:48:58.0640  2019-05-28 13:01:18.0860   \n",
       "1667700          1398  2019-08-08 06:56:00.5770  2019-08-08 07:19:19.3810   \n",
       "593945            422  2019-03-06 18:20:01.6750  2019-03-06 18:27:04.5810   \n",
       "1849464          1159  2019-09-12 17:13:52.2030  2019-09-12 17:33:11.7320   \n",
       "2406907          1167  2019-12-15 11:14:06.2710  2019-12-15 11:33:33.9200   \n",
       "2195623          1355  2019-11-23 13:10:40.7720  2019-11-23 13:33:16.6340   \n",
       "2295317           413  2019-11-09 11:50:43.8070  2019-11-09 11:57:37.7520   \n",
       "2448328           404  2019-12-06 22:38:45.3200  2019-12-06 22:45:29.8180   \n",
       "1364931           662  2019-07-10 09:35:10.6820  2019-07-10 09:46:13.3540   \n",
       "1388013           902  2019-07-05 22:16:29.4290  2019-07-05 22:31:32.3830   \n",
       "465005           1078  2019-03-21 08:14:45.4660  2019-03-21 08:32:43.5380   \n",
       "1457849          1447       2019-07-25 19:17:29       2019-07-25 19:41:36   \n",
       "394512            898  2019-03-29 14:07:10.0000  2019-03-29 14:22:08.6090   \n",
       "661428            188  2019-04-26 07:34:32.6030  2019-04-26 07:37:40.6120   \n",
       "1647798           741  2019-08-11 12:00:00.0790  2019-08-11 12:12:21.2850   \n",
       "2185511           448  2019-11-25 16:36:08.6800  2019-11-25 16:43:37.4070   \n",
       "232868            313  2019-02-22 19:43:45.5230  2019-02-22 19:48:59.1190   \n",
       "2398259          1752  2019-12-16 19:01:00.1770  2019-12-16 19:30:12.5990   \n",
       "1132294           411  2019-06-18 15:20:45.4750  2019-06-18 15:27:37.2700   \n",
       "765498            435  2019-04-11 14:36:46.6990  2019-04-11 14:44:02.5410   \n",
       "\n",
       "         start_station_id                                 start_station_name  \\\n",
       "896766               59.0                        S Van Ness Ave at Market St   \n",
       "1667700             380.0                             Masonic Ave at Turk St   \n",
       "593945              176.0                             MacArthur BART Station   \n",
       "1849464             123.0                               Folsom St at 19th St   \n",
       "2406907             324.0                Union Square (Powell St at Post St)   \n",
       "2195623             271.0                                     San Pablo Park   \n",
       "2295317              81.0                                 Berry St at 4th St   \n",
       "2448328             364.0                           China Basin St at 3rd St   \n",
       "1364931              67.0  San Francisco Caltrain Station 2  (Townsend St...   \n",
       "1388013               8.0                      The Embarcadero at Vallejo St   \n",
       "465005               71.0                             Broderick St at Oak St   \n",
       "1457849              42.0      San Francisco City Hall (Polk St at Grove St)   \n",
       "394512              311.0                     Paseo De San Antonio at 2nd St   \n",
       "661428              255.0                        Virginia St at Shattuck Ave   \n",
       "1647798              79.0                               7th St at Brannan St   \n",
       "2185511              34.0                     Father Alfred E Boeddeker Park   \n",
       "232868                7.0                                Frank H Ogawa Plaza   \n",
       "2398259             115.0                                 Jackson Playground   \n",
       "1132294             431.0                         Judson Ave at Gennessee St   \n",
       "765498              115.0                                 Jackson Playground   \n",
       "\n",
       "         start_station_latitude  start_station_longitude  end_station_id  \\\n",
       "896766                37.774814              -122.418954            25.0   \n",
       "1667700               37.779047              -122.447291            67.0   \n",
       "593945                37.828410              -122.266315           210.0   \n",
       "1849464               37.760594              -122.414817           419.0   \n",
       "2406907               37.788300              -122.408531           123.0   \n",
       "2195623               37.855783              -122.283127           240.0   \n",
       "2295317               37.775880              -122.393170           104.0   \n",
       "2448328               37.772000              -122.389970           126.0   \n",
       "1364931               37.776639              -122.395526            16.0   \n",
       "1388013               37.799953              -122.398525             8.0   \n",
       "465005                37.773063              -122.439078            25.0   \n",
       "1457849               37.778650              -122.418230             NaN   \n",
       "394512                37.333798              -121.886943           296.0   \n",
       "661428                37.876573              -122.269528           245.0   \n",
       "1647798               37.773492              -122.403673           284.0   \n",
       "2185511               37.783988              -122.412408           445.0   \n",
       "232868                37.804562              -122.271738           372.0   \n",
       "2398259               37.765026              -122.398773           147.0   \n",
       "1132294               37.728282              -122.450695           413.0   \n",
       "765498                37.765026              -122.398773           108.0   \n",
       "\n",
       "                                          end_station_name  \\\n",
       "896766                                 Howard St at 2nd St   \n",
       "1667700  San Francisco Caltrain Station 2  (Townsend St...   \n",
       "593945                                   45th St at Manila   \n",
       "1849464                                 Fern St at Polk St   \n",
       "2406907                               Folsom St at 19th St   \n",
       "2195623                          Haste St at Telegraph Ave   \n",
       "2295317                                  4th St at 16th St   \n",
       "2448328                                        Esprit Park   \n",
       "1364931                            Steuart St at Market St   \n",
       "1388013                      The Embarcadero at Vallejo St   \n",
       "465005                                 Howard St at 2nd St   \n",
       "1457849                                                NaN   \n",
       "394512                               5th St at Virginia St   \n",
       "661428                              Downtown Berkeley BART   \n",
       "1647798  Yerba Buena Center for the Arts (Howard St at ...   \n",
       "2185511                     Natoma St at New Montgomery St   \n",
       "232868                               Madison St at 17th St   \n",
       "2398259                             29th St at Tiffany Ave   \n",
       "1132294                           Balboa Park BART Station   \n",
       "765498                                16th St Mission BART   \n",
       "\n",
       "         end_station_latitude  end_station_longitude  bike_id   user_type  \\\n",
       "896766              37.786928            -122.398113     2461  Subscriber   \n",
       "1667700             37.776639            -122.395526     1591  Subscriber   \n",
       "593945              37.833294            -122.256224      371  Subscriber   \n",
       "1849464             37.788197            -122.420373    10025  Subscriber   \n",
       "2406907             37.760594            -122.414817     9850  Subscriber   \n",
       "2195623             37.866043            -122.258804    12225    Customer   \n",
       "2295317             37.767045            -122.390833    10058  Subscriber   \n",
       "2448328             37.761634            -122.390648      586  Subscriber   \n",
       "1364931             37.794130            -122.394430      608  Subscriber   \n",
       "1388013             37.799953            -122.398525      823    Customer   \n",
       "465005              37.787522            -122.397405     5346  Subscriber   \n",
       "1457849             37.767313            -122.445752   535763  Subscriber   \n",
       "394512              37.325998            -121.877120     4228  Subscriber   \n",
       "661428              37.870139            -122.268422     3122  Subscriber   \n",
       "1647798             37.784872            -122.400876     3125    Customer   \n",
       "2185511             37.786553            -122.399607     1448  Subscriber   \n",
       "232868              37.804037            -122.262409     5779    Customer   \n",
       "2398259             37.744067            -122.421472    12992    Customer   \n",
       "1132294             37.720555            -122.447723     2981    Customer   \n",
       "765498              37.764710            -122.419957     5588  Subscriber   \n",
       "\n",
       "        bike_share_for_all_trip rental_access_method  \n",
       "896766                       No                  NaN  \n",
       "1667700                      No                  NaN  \n",
       "593945                       No                  NaN  \n",
       "1849464                      No                  NaN  \n",
       "2406907                     NaN                  NaN  \n",
       "2195623                      No                  NaN  \n",
       "2295317                      No                  NaN  \n",
       "2448328                     NaN                  NaN  \n",
       "1364931                      No                  NaN  \n",
       "1388013                      No                  NaN  \n",
       "465005                       No                  NaN  \n",
       "1457849                     NaN              clipper  \n",
       "394512                      Yes                  NaN  \n",
       "661428                       No                  NaN  \n",
       "1647798                      No                  NaN  \n",
       "2185511                      No                  NaN  \n",
       "232868                       No                  NaN  \n",
       "2398259                     NaN                  NaN  \n",
       "1132294                      No                  NaN  \n",
       "765498                       No                  NaN  "
      ]
     },
     "execution_count": 4,
     "metadata": {},
     "output_type": "execute_result"
    }
   ],
   "source": [
    "df.sample(20)"
   ]
  },
  {
   "cell_type": "code",
   "execution_count": 5,
   "metadata": {
    "slideshow": {
     "slide_type": "skip"
    }
   },
   "outputs": [
    {
     "name": "stdout",
     "output_type": "stream",
     "text": [
      "<class 'pandas.core.frame.DataFrame'>\n",
      "RangeIndex: 2506983 entries, 0 to 2506982\n",
      "Data columns (total 15 columns):\n",
      " #   Column                   Dtype  \n",
      "---  ------                   -----  \n",
      " 0   duration_sec             int64  \n",
      " 1   start_time               object \n",
      " 2   end_time                 object \n",
      " 3   start_station_id         float64\n",
      " 4   start_station_name       object \n",
      " 5   start_station_latitude   float64\n",
      " 6   start_station_longitude  float64\n",
      " 7   end_station_id           float64\n",
      " 8   end_station_name         object \n",
      " 9   end_station_latitude     float64\n",
      " 10  end_station_longitude    float64\n",
      " 11  bike_id                  int64  \n",
      " 12  user_type                object \n",
      " 13  bike_share_for_all_trip  object \n",
      " 14  rental_access_method     object \n",
      "dtypes: float64(6), int64(2), object(7)\n",
      "memory usage: 286.9+ MB\n"
     ]
    }
   ],
   "source": [
    "df.info()"
   ]
  },
  {
   "cell_type": "code",
   "execution_count": 6,
   "metadata": {
    "slideshow": {
     "slide_type": "skip"
    }
   },
   "outputs": [
    {
     "data": {
      "text/plain": [
       "0"
      ]
     },
     "execution_count": 6,
     "metadata": {},
     "output_type": "execute_result"
    }
   ],
   "source": [
    "#checking for duplicates\n",
    "sum(df.duplicated())"
   ]
  },
  {
   "cell_type": "code",
   "execution_count": 7,
   "metadata": {
    "slideshow": {
     "slide_type": "skip"
    }
   },
   "outputs": [
    {
     "data": {
      "text/plain": [
       "duration_sec                     0\n",
       "start_time                       0\n",
       "end_time                         0\n",
       "start_station_id             80734\n",
       "start_station_name           80133\n",
       "start_station_latitude           0\n",
       "start_station_longitude          0\n",
       "end_station_id               82902\n",
       "end_station_name             82350\n",
       "end_station_latitude             0\n",
       "end_station_longitude            0\n",
       "bike_id                          0\n",
       "user_type                        0\n",
       "bike_share_for_all_trip     243259\n",
       "rental_access_method       2386145\n",
       "dtype: int64"
      ]
     },
     "execution_count": 7,
     "metadata": {},
     "output_type": "execute_result"
    }
   ],
   "source": [
    "df.isna().sum()"
   ]
  },
  {
   "cell_type": "markdown",
   "metadata": {
    "slideshow": {
     "slide_type": "skip"
    }
   },
   "source": [
    "## Cleaning"
   ]
  },
  {
   "cell_type": "code",
   "execution_count": 8,
   "metadata": {
    "slideshow": {
     "slide_type": "skip"
    }
   },
   "outputs": [],
   "source": [
    "df1=df.copy()"
   ]
  },
  {
   "cell_type": "markdown",
   "metadata": {
    "slideshow": {
     "slide_type": "skip"
    }
   },
   "source": [
    "**Changing to correct datatypes for multiple columns**"
   ]
  },
  {
   "cell_type": "code",
   "execution_count": 9,
   "metadata": {
    "slideshow": {
     "slide_type": "skip"
    }
   },
   "outputs": [],
   "source": [
    "df1['start_station_id']=df1['start_station_id'].astype('str')\n",
    "df1['user_type'] = df1['user_type'].astype('category')\n",
    "df1['bike_share_for_all_trip'] = df1['bike_share_for_all_trip'].astype('category')\n",
    "df1['rental_access_method'] = df1['rental_access_method'].astype('category')\n",
    "df1['bike_id'] = df1['bike_id'].astype('str')\n",
    "df1['start_time'] = pd.to_datetime(df1['start_time'])\n",
    "df1['end_time']=pd.to_datetime(df1['end_time'])"
   ]
  },
  {
   "cell_type": "code",
   "execution_count": 10,
   "metadata": {
    "slideshow": {
     "slide_type": "skip"
    }
   },
   "outputs": [
    {
     "name": "stdout",
     "output_type": "stream",
     "text": [
      "<class 'pandas.core.frame.DataFrame'>\n",
      "RangeIndex: 2506983 entries, 0 to 2506982\n",
      "Data columns (total 15 columns):\n",
      " #   Column                   Dtype         \n",
      "---  ------                   -----         \n",
      " 0   duration_sec             int64         \n",
      " 1   start_time               datetime64[ns]\n",
      " 2   end_time                 datetime64[ns]\n",
      " 3   start_station_id         object        \n",
      " 4   start_station_name       object        \n",
      " 5   start_station_latitude   float64       \n",
      " 6   start_station_longitude  float64       \n",
      " 7   end_station_id           float64       \n",
      " 8   end_station_name         object        \n",
      " 9   end_station_latitude     float64       \n",
      " 10  end_station_longitude    float64       \n",
      " 11  bike_id                  object        \n",
      " 12  user_type                category      \n",
      " 13  bike_share_for_all_trip  category      \n",
      " 14  rental_access_method     category      \n",
      "dtypes: category(3), datetime64[ns](2), float64(5), int64(1), object(4)\n",
      "memory usage: 236.7+ MB\n"
     ]
    }
   ],
   "source": [
    "df1.info()"
   ]
  },
  {
   "cell_type": "markdown",
   "metadata": {
    "slideshow": {
     "slide_type": "slide"
    }
   },
   "source": [
    "# Univariate exploration"
   ]
  },
  {
   "cell_type": "code",
   "execution_count": 11,
   "metadata": {
    "slideshow": {
     "slide_type": "slide"
    }
   },
   "outputs": [
    {
     "data": {
      "image/png": "[encoded data removed]",
      "text/plain": [
       "<Figure size 432x288 with 1 Axes>"
      ]
     },
     "metadata": {
      "needs_background": "light"
     },
     "output_type": "display_data"
    }
   ],
   "source": [
    "base_color= sb.color_palette()[0]\n",
    "type_order = df['user_type'].value_counts().index\n",
    "sb.countplot(data=df, x='user_type', color=base_color,order=type_order);\n",
    "plt.title(\"TYPES OF USER COUNT\",fontweight='bold', fontsize=16);"
   ]
  },
  {
   "cell_type": "markdown",
   "metadata": {
    "slideshow": {
     "slide_type": "subslide"
    }
   },
   "source": [
    "### Subscribers seem to use the service of bike rides more than the Customers. Subsrcibers usage are around 3 times more than the Customers"
   ]
  },
  {
   "cell_type": "code",
   "execution_count": 12,
   "metadata": {
    "slideshow": {
     "slide_type": "slide"
    }
   },
   "outputs": [
    {
     "data": {
      "image/png": "[encoded data removed]",
      "text/plain": [
       "<Figure size 432x288 with 1 Axes>"
      ]
     },
     "metadata": {
      "needs_background": "light"
     },
     "output_type": "display_data"
    }
   ],
   "source": [
    "shared_order = df1['bike_share_for_all_trip'].value_counts().index\n",
    "sb.countplot(data=df1, x='bike_share_for_all_trip', color=base_color,order=shared_order);\n",
    "plt.title(\"Bike Share For All Trip\",fontweight='bold', fontsize=16);"
   ]
  },
  {
   "cell_type": "markdown",
   "metadata": {
    "slideshow": {
     "slide_type": "subslide"
    }
   },
   "source": [
    "### Almost 90% of the users does not share the bike for all trips. The users did not prefer bike share option.\n"
   ]
  },
  {
   "cell_type": "code",
   "execution_count": 37,
   "metadata": {
    "slideshow": {
     "slide_type": "skip"
    }
   },
   "outputs": [
    {
     "data": {
      "text/plain": [
       "count    2.506983e+06\n",
       "mean     1.296946e+01\n",
       "std      3.291311e+01\n",
       "min      1.000000e+00\n",
       "25%      5.000000e+00\n",
       "50%      9.000000e+00\n",
       "75%      1.400000e+01\n",
       "max      1.520100e+04\n",
       "Name: dur_min, dtype: float64"
      ]
     },
     "execution_count": 37,
     "metadata": {},
     "output_type": "execute_result"
    }
   ],
   "source": [
    "df1['dur_min'].describe()"
   ]
  },
  {
   "cell_type": "code",
   "execution_count": 17,
   "metadata": {
    "slideshow": {
     "slide_type": "slide"
    }
   },
   "outputs": [
    {
     "data": {
      "image/png": "[encoded data removed]",
      "text/plain": [
       "<Figure size 432x288 with 1 Axes>"
      ]
     },
     "metadata": {
      "needs_background": "light"
     },
     "output_type": "display_data"
    }
   ],
   "source": [
    "bins = np.arange(0, 50, 1)\n",
    "ticks = np.arange(0, 50, 5)\n",
    "plt.hist(data=df1, x='dur_min', bins=bins);\n",
    "plt.xticks(ticks, ticks);\n",
    "plt.ylabel('Number of Trips');\n",
    "plt.xlabel('Duration of Trip in Minute', fontsize=14);\n",
    "plt.title(\"Number of Tripe WRT Trip Duration in minutes\", fontweight='bold',fontsize=14);"
   ]
  },
  {
   "cell_type": "markdown",
   "metadata": {
    "slideshow": {
     "slide_type": "subslide"
    }
   },
   "source": [
    "### Most of the trip duration last within the range of 5-10 minutes. Also almost none of them are used for more that a hour."
   ]
  },
  {
   "cell_type": "code",
   "execution_count": 18,
   "metadata": {
    "slideshow": {
     "slide_type": "skip"
    }
   },
   "outputs": [
    {
     "data": {
      "text/plain": [
       "2386145"
      ]
     },
     "execution_count": 18,
     "metadata": {},
     "output_type": "execute_result"
    }
   ],
   "source": [
    " sum(df1['rental_access_method'].isna())\n",
    " #Most of the values are null here.   "
   ]
  },
  {
   "cell_type": "code",
   "execution_count": 20,
   "metadata": {
    "slideshow": {
     "slide_type": "skip"
    }
   },
   "outputs": [
    {
     "data": {
      "text/plain": [
       "app        108010\n",
       "clipper     12828\n",
       "Name: rental_access_method, dtype: int64"
      ]
     },
     "execution_count": 20,
     "metadata": {},
     "output_type": "execute_result"
    }
   ],
   "source": [
    "df1['rental_access_method'].value_counts()\n",
    "#Column is of no use for us"
   ]
  },
  {
   "cell_type": "code",
   "execution_count": 21,
   "metadata": {
    "slideshow": {
     "slide_type": "skip"
    }
   },
   "outputs": [
    {
     "data": {
      "text/html": [
       "<div>\n",
       "<style scoped>\n",
       "    .dataframe tbody tr th:only-of-type {\n",
       "        vertical-align: middle;\n",
       "    }\n",
       "\n",
       "    .dataframe tbody tr th {\n",
       "        vertical-align: top;\n",
       "    }\n",
       "\n",
       "    .dataframe thead th {\n",
       "        text-align: right;\n",
       "    }\n",
       "</style>\n",
       "<table border=\"1\" class=\"dataframe\">\n",
       "  <thead>\n",
       "    <tr style=\"text-align: right;\">\n",
       "      <th></th>\n",
       "      <th>duration_sec</th>\n",
       "      <th>start_time</th>\n",
       "      <th>end_time</th>\n",
       "      <th>start_station_id</th>\n",
       "      <th>start_station_name</th>\n",
       "      <th>start_station_latitude</th>\n",
       "      <th>start_station_longitude</th>\n",
       "      <th>end_station_id</th>\n",
       "      <th>end_station_name</th>\n",
       "      <th>end_station_latitude</th>\n",
       "      <th>end_station_longitude</th>\n",
       "      <th>bike_id</th>\n",
       "      <th>user_type</th>\n",
       "      <th>bike_share_for_all_trip</th>\n",
       "      <th>rental_access_method</th>\n",
       "      <th>start_date</th>\n",
       "      <th>start_hour</th>\n",
       "      <th>day_week</th>\n",
       "      <th>start_month</th>\n",
       "      <th>dur_min</th>\n",
       "    </tr>\n",
       "  </thead>\n",
       "  <tbody>\n",
       "    <tr>\n",
       "      <th>0</th>\n",
       "      <td>80825</td>\n",
       "      <td>2019-01-31 17:57:44.613</td>\n",
       "      <td>2019-02-01 16:24:49.864</td>\n",
       "      <td>229.0</td>\n",
       "      <td>Foothill Blvd at 42nd Ave</td>\n",
       "      <td>37.775745</td>\n",
       "      <td>-122.213037</td>\n",
       "      <td>196.0</td>\n",
       "      <td>Grand Ave at Perkins St</td>\n",
       "      <td>37.808894</td>\n",
       "      <td>-122.256460</td>\n",
       "      <td>4861</td>\n",
       "      <td>Subscriber</td>\n",
       "      <td>No</td>\n",
       "      <td>NaN</td>\n",
       "      <td>2019-01-31</td>\n",
       "      <td>17</td>\n",
       "      <td>Thursday</td>\n",
       "      <td>January</td>\n",
       "      <td>1347</td>\n",
       "    </tr>\n",
       "    <tr>\n",
       "      <th>1</th>\n",
       "      <td>65900</td>\n",
       "      <td>2019-01-31 20:58:33.886</td>\n",
       "      <td>2019-02-01 15:16:54.173</td>\n",
       "      <td>4.0</td>\n",
       "      <td>Cyril Magnin St at Ellis St</td>\n",
       "      <td>37.785881</td>\n",
       "      <td>-122.408915</td>\n",
       "      <td>134.0</td>\n",
       "      <td>Valencia St at 24th St</td>\n",
       "      <td>37.752428</td>\n",
       "      <td>-122.420628</td>\n",
       "      <td>5506</td>\n",
       "      <td>Subscriber</td>\n",
       "      <td>No</td>\n",
       "      <td>NaN</td>\n",
       "      <td>2019-01-31</td>\n",
       "      <td>20</td>\n",
       "      <td>Thursday</td>\n",
       "      <td>January</td>\n",
       "      <td>1098</td>\n",
       "    </tr>\n",
       "    <tr>\n",
       "      <th>2</th>\n",
       "      <td>62633</td>\n",
       "      <td>2019-01-31 18:06:52.924</td>\n",
       "      <td>2019-02-01 11:30:46.530</td>\n",
       "      <td>245.0</td>\n",
       "      <td>Downtown Berkeley BART</td>\n",
       "      <td>37.870139</td>\n",
       "      <td>-122.268422</td>\n",
       "      <td>157.0</td>\n",
       "      <td>65th St at Hollis St</td>\n",
       "      <td>37.846784</td>\n",
       "      <td>-122.291376</td>\n",
       "      <td>2717</td>\n",
       "      <td>Customer</td>\n",
       "      <td>No</td>\n",
       "      <td>NaN</td>\n",
       "      <td>2019-01-31</td>\n",
       "      <td>18</td>\n",
       "      <td>Thursday</td>\n",
       "      <td>January</td>\n",
       "      <td>1043</td>\n",
       "    </tr>\n",
       "    <tr>\n",
       "      <th>3</th>\n",
       "      <td>44680</td>\n",
       "      <td>2019-01-31 19:46:09.719</td>\n",
       "      <td>2019-02-01 08:10:50.318</td>\n",
       "      <td>85.0</td>\n",
       "      <td>Church St at Duboce Ave</td>\n",
       "      <td>37.770083</td>\n",
       "      <td>-122.429156</td>\n",
       "      <td>53.0</td>\n",
       "      <td>Grove St at Divisadero</td>\n",
       "      <td>37.775946</td>\n",
       "      <td>-122.437777</td>\n",
       "      <td>4557</td>\n",
       "      <td>Customer</td>\n",
       "      <td>No</td>\n",
       "      <td>NaN</td>\n",
       "      <td>2019-01-31</td>\n",
       "      <td>19</td>\n",
       "      <td>Thursday</td>\n",
       "      <td>January</td>\n",
       "      <td>744</td>\n",
       "    </tr>\n",
       "    <tr>\n",
       "      <th>4</th>\n",
       "      <td>60709</td>\n",
       "      <td>2019-01-31 14:19:01.541</td>\n",
       "      <td>2019-02-01 07:10:51.065</td>\n",
       "      <td>16.0</td>\n",
       "      <td>Steuart St at Market St</td>\n",
       "      <td>37.794130</td>\n",
       "      <td>-122.394430</td>\n",
       "      <td>28.0</td>\n",
       "      <td>The Embarcadero at Bryant St</td>\n",
       "      <td>37.787168</td>\n",
       "      <td>-122.388098</td>\n",
       "      <td>2100</td>\n",
       "      <td>Customer</td>\n",
       "      <td>No</td>\n",
       "      <td>NaN</td>\n",
       "      <td>2019-01-31</td>\n",
       "      <td>14</td>\n",
       "      <td>Thursday</td>\n",
       "      <td>January</td>\n",
       "      <td>1011</td>\n",
       "    </tr>\n",
       "  </tbody>\n",
       "</table>\n",
       "</div>"
      ],
      "text/plain": [
       "   duration_sec              start_time                end_time  \\\n",
       "0         80825 2019-01-31 17:57:44.613 2019-02-01 16:24:49.864   \n",
       "1         65900 2019-01-31 20:58:33.886 2019-02-01 15:16:54.173   \n",
       "2         62633 2019-01-31 18:06:52.924 2019-02-01 11:30:46.530   \n",
       "3         44680 2019-01-31 19:46:09.719 2019-02-01 08:10:50.318   \n",
       "4         60709 2019-01-31 14:19:01.541 2019-02-01 07:10:51.065   \n",
       "\n",
       "  start_station_id           start_station_name  start_station_latitude  \\\n",
       "0            229.0    Foothill Blvd at 42nd Ave               37.775745   \n",
       "1              4.0  Cyril Magnin St at Ellis St               37.785881   \n",
       "2            245.0       Downtown Berkeley BART               37.870139   \n",
       "3             85.0      Church St at Duboce Ave               37.770083   \n",
       "4             16.0      Steuart St at Market St               37.794130   \n",
       "\n",
       "   start_station_longitude  end_station_id              end_station_name  \\\n",
       "0              -122.213037           196.0       Grand Ave at Perkins St   \n",
       "1              -122.408915           134.0        Valencia St at 24th St   \n",
       "2              -122.268422           157.0          65th St at Hollis St   \n",
       "3              -122.429156            53.0        Grove St at Divisadero   \n",
       "4              -122.394430            28.0  The Embarcadero at Bryant St   \n",
       "\n",
       "   end_station_latitude  end_station_longitude bike_id   user_type  \\\n",
       "0             37.808894            -122.256460    4861  Subscriber   \n",
       "1             37.752428            -122.420628    5506  Subscriber   \n",
       "2             37.846784            -122.291376    2717    Customer   \n",
       "3             37.775946            -122.437777    4557    Customer   \n",
       "4             37.787168            -122.388098    2100    Customer   \n",
       "\n",
       "  bike_share_for_all_trip rental_access_method  start_date start_hour  \\\n",
       "0                      No                  NaN  2019-01-31         17   \n",
       "1                      No                  NaN  2019-01-31         20   \n",
       "2                      No                  NaN  2019-01-31         18   \n",
       "3                      No                  NaN  2019-01-31         19   \n",
       "4                      No                  NaN  2019-01-31         14   \n",
       "\n",
       "   day_week start_month  dur_min  \n",
       "0  Thursday     January     1347  \n",
       "1  Thursday     January     1098  \n",
       "2  Thursday     January     1043  \n",
       "3  Thursday     January      744  \n",
       "4  Thursday     January     1011  "
      ]
     },
     "execution_count": 21,
     "metadata": {},
     "output_type": "execute_result"
    }
   ],
   "source": [
    "# To Create new columns which we can use to visualize the dataframe.\n",
    "df1['start_date'] = df1.start_time.dt.strftime('%Y-%m-%d')\n",
    "df1['start_hour'] = df1.start_time.dt.strftime('%H')\n",
    "df1['day_week'] = df1.start_time.dt.strftime('%A')\n",
    "df1['start_month'] = df1.start_time.dt.strftime('%B')\n",
    "df1['dur_min'] = df1['duration_sec']/60\n",
    "df1['dur_min'] = df1['dur_min'].astype(int)\n",
    "df1.head()\n"
   ]
  },
  {
   "cell_type": "code",
   "execution_count": 22,
   "metadata": {
    "slideshow": {
     "slide_type": "slide"
    }
   },
   "outputs": [
    {
     "data": {
      "image/png": "[encoded data removed]",
      "text/plain": [
       "<Figure size 576x288 with 1 Axes>"
      ]
     },
     "metadata": {
      "needs_background": "light"
     },
     "output_type": "display_data"
    }
   ],
   "source": [
    "weekday = ['Monday', 'Tuesday', 'Wednesday', 'Thursday', 'Friday', 'Saturday', 'Sunday']\n",
    "weekdaycat = pd.api.types.CategoricalDtype(ordered=True, categories=weekday)\n",
    "df1['day_week'] = df1['day_week'].astype(weekdaycat)\n",
    "plt.subplots(figsize = (8,4))\n",
    "sb.countplot(data=df1, x='day_week', color=base_color);\n",
    "plt.title('Users Start Day of The trip',fontweight='bold', fontsize=16);\n",
    "plt.xlabel('Start Day of the Trip');\n",
    "plt.ylabel('Count');\n",
    "plt.xticks(rotation=20);"
   ]
  },
  {
   "cell_type": "markdown",
   "metadata": {
    "slideshow": {
     "slide_type": "subslide"
    }
   },
   "source": [
    "### Tuesday and Thursday have the highest frequency of users as a Start Day of Trip. While the weekends have the lowest number of users."
   ]
  },
  {
   "cell_type": "code",
   "execution_count": 23,
   "metadata": {
    "slideshow": {
     "slide_type": "skip"
    }
   },
   "outputs": [
    {
     "data": {
      "text/plain": [
       "July         258102\n",
       "March        256299\n",
       "October      239895\n",
       "April        239111\n",
       "September    217986\n",
       "August       210563\n",
       "January      192082\n",
       "June         191772\n",
       "November     185496\n",
       "February     183412\n",
       "May          182163\n",
       "December     150102\n",
       "Name: start_month, dtype: int64"
      ]
     },
     "execution_count": 23,
     "metadata": {},
     "output_type": "execute_result"
    }
   ],
   "source": [
    "df1['start_month'].value_counts()"
   ]
  },
  {
   "cell_type": "code",
   "execution_count": 24,
   "metadata": {
    "slideshow": {
     "slide_type": "slide"
    }
   },
   "outputs": [
    {
     "data": {
      "image/png": "[encoded data removed]",
      "text/plain": [
       "<Figure size 720x288 with 1 Axes>"
      ]
     },
     "metadata": {
      "needs_background": "light"
     },
     "output_type": "display_data"
    }
   ],
   "source": [
    "months = ['January','February','March','April','May','June','July','August','September','October','November','December']\n",
    "months_cat = pd.api.types.CategoricalDtype(ordered=True, categories=months)\n",
    "df1['start_month'] = df1['start_month'].astype(months_cat)\n",
    "plt.subplots(figsize = (10,4))\n",
    "sb.countplot(data=df1, x='start_month', color=base_color);\n",
    "plt.title('Users Start month of the Trip',fontweight='bold', fontsize=16);\n",
    "plt.xlabel('Start Month of the Trip');\n",
    "plt.ylabel('Count');\n",
    "plt.xticks(rotation=90);"
   ]
  },
  {
   "cell_type": "markdown",
   "metadata": {
    "slideshow": {
     "slide_type": "subslide"
    }
   },
   "source": [
    "### April and July are the months when the user count is the most while December has the lowest count"
   ]
  },
  {
   "cell_type": "code",
   "execution_count": 25,
   "metadata": {
    "slideshow": {
     "slide_type": "slide"
    }
   },
   "outputs": [
    {
     "data": {
      "image/png": "[encoded data removed]",
      "text/plain": [
       "<Figure size 612x360 with 1 Axes>"
      ]
     },
     "metadata": {
      "needs_background": "light"
     },
     "output_type": "display_data"
    }
   ],
   "source": [
    "# Hourly usage of the Ford Go Bike System\n",
    "graph = sb.catplot(data = df1, x='start_hour', kind='count', color = base_color, aspect = 1.7)\n",
    "graph.set_axis_labels('Hours', 'Number of Bike Rides')\n",
    "graph.fig.suptitle('Ford GoBike System Usage by Hour', y=1.05, fontsize=16, fontweight='bold');"
   ]
  },
  {
   "cell_type": "markdown",
   "metadata": {
    "slideshow": {
     "slide_type": "subslide"
    }
   },
   "source": [
    "### The morning that is at 8am and the evening 5pm are the hours where the bikes are most used."
   ]
  },
  {
   "cell_type": "markdown",
   "metadata": {
    "slideshow": {
     "slide_type": "slide"
    }
   },
   "source": [
    "## Bivariate exploration"
   ]
  },
  {
   "cell_type": "code",
   "execution_count": 26,
   "metadata": {
    "slideshow": {
     "slide_type": "slide"
    }
   },
   "outputs": [
    {
     "data": {
      "image/png": "[encoded data removed]",
      "text/plain": [
       "<Figure size 479.75x360 with 1 Axes>"
      ]
     },
     "metadata": {
      "needs_background": "light"
     },
     "output_type": "display_data"
    }
   ],
   "source": [
    "# Customer Usage by Weekday vs. Subscriber Usage by Weekday\n",
    "df_hr = sb.catplot(data=df1, x='user_type', hue='bike_share_for_all_trip',hue_order=['Yes','No'], kind='count', sharey = False,palette=\"Blues_d\")\n",
    "df_hr.set_axis_labels(\"Hour\", \"#Bike Trips\")\n",
    "df_hr.set_titles(\"{col_name}\")\n",
    "df_hr.fig.suptitle('Hourly usage of the bike share system per user type', y=1.03, fontsize=16, fontweight='bold');\n",
    "plt.xticks(rotation=20);"
   ]
  },
  {
   "cell_type": "markdown",
   "metadata": {
    "slideshow": {
     "slide_type": "subslide"
    }
   },
   "source": [
    "\n",
    "### Around 200000 Subscribers and none of the Customers use the bike for all trip. While more than 1600000 Subscribers and only 400000 Customers share their bike for all trip.\n"
   ]
  },
  {
   "cell_type": "code",
   "execution_count": 27,
   "metadata": {
    "slideshow": {
     "slide_type": "slide"
    }
   },
   "outputs": [
    {
     "data": {
      "image/png": "[encoded data removed]",
      "text/plain": [
       "<Figure size 720x288 with 1 Axes>"
      ]
     },
     "metadata": {
      "needs_background": "light"
     },
     "output_type": "display_data"
    }
   ],
   "source": [
    ";# Customer Usage by Weekday vs. Subscriber Usage by Weekday\n",
    "plt.subplots(figsize = (10,4))\n",
    "sb.countplot(data= df1, x='day_week', hue='user_type',palette=\"Blues_d\");\n",
    "plt.title('Start Day of The trip according to user types',fontweight='bold', fontsize=16);\n",
    "plt.xticks(rotation=20);"
   ]
  },
  {
   "cell_type": "markdown",
   "metadata": {
    "slideshow": {
     "slide_type": "subslide"
    }
   },
   "source": [
    "### For every day of week the Subscriber usage is more than Customer's bike usage. Also it is very evident here that the Customer's usage is nearly constant without much fluctuations for all days of the week.\n"
   ]
  },
  {
   "cell_type": "code",
   "execution_count": 28,
   "metadata": {
    "slideshow": {
     "slide_type": "slide"
    }
   },
   "outputs": [
    {
     "data": {
      "image/png": "[encoded data removed]",
      "text/plain": [
       "<Figure size 936x432 with 1 Axes>"
      ]
     },
     "metadata": {
      "needs_background": "light"
     },
     "output_type": "display_data"
    }
   ],
   "source": [
    "# Time distribution wrt users\n",
    "plt.subplots(figsize = (13,6))\n",
    "sb.countplot(data=df1, x='start_hour', hue='user_type', palette=\"Blues_d\")\n",
    "plt.title('TIME OF TRIP WRT USER TYPE',fontweight='bold')\n",
    "plt.xlabel('Hour of Day')\n",
    "plt.ylabel('Count');\n"
   ]
  },
  {
   "cell_type": "markdown",
   "metadata": {
    "slideshow": {
     "slide_type": "subslide"
    }
   },
   "source": [
    "### Subscribers usage of the bikes is obviously at the rush hours , this provides evidence that they use the service on the purpose of going to work. The customers tend to ride most in the noon or evenings."
   ]
  },
  {
   "cell_type": "markdown",
   "metadata": {
    "slideshow": {
     "slide_type": "slide"
    }
   },
   "source": [
    "## Multivariate Exploration"
   ]
  },
  {
   "cell_type": "code",
   "execution_count": 31,
   "metadata": {
    "slideshow": {
     "slide_type": "slide"
    }
   },
   "outputs": [
    {
     "data": {
      "image/png": "[encoded data removed]",
      "text/plain": [
       "<Figure size 1296x576 with 1 Axes>"
      ]
     },
     "metadata": {
      "needs_background": "light"
     },
     "output_type": "display_data"
    }
   ],
   "source": [
    "plt.subplots(figsize = (18,8))\n",
    "ax = sb.pointplot(data = df1, x = 'start_hour', y = 'dur_min', hue = 'day_week',palette = 'Blues', linestyles = '--')\n",
    "plt.title('TRIP DURATION WRT DAY OF WEEK, HOUR', fontweight='bold')\n",
    "plt.ylabel('Mean Duration in minutes')\n",
    "plt.yscale('log')\n",
    "plt.yticks([1, 2, 5, 10, 20, 50, 100], [1, 2, 5, 10, 20, 50, 100])\n",
    "ax.set_yticklabels([],minor = True);\n"
   ]
  },
  {
   "cell_type": "markdown",
   "metadata": {
    "slideshow": {
     "slide_type": "subslide"
    }
   },
   "source": [
    "### Subscribers rides are much shorter compared to those of the customers on everyday of the week. The trend line seems to increase on weekends, especially for customer user type ."
   ]
  },
  {
   "cell_type": "code",
   "execution_count": 32,
   "metadata": {
    "slideshow": {
     "slide_type": "slide"
    }
   },
   "outputs": [
    {
     "data": {
      "image/png": "[encoded data removed]",
      "text/plain": [
       "<Figure size 1080x648 with 2 Axes>"
      ]
     },
     "metadata": {
      "needs_background": "light"
     },
     "output_type": "display_data"
    }
   ],
   "source": [
    "# Heatmap - Subscribers\n",
    "plt.figure(figsize=(15,9))\n",
    "df_sub = df1.query('user_type == \"Subscriber\"').groupby(['start_hour', 'day_week'])['bike_id'].size().reset_index();\n",
    "df_sub = df_sub.pivot('start_hour', 'day_week', 'bike_id')\n",
    "hot_map = sb.heatmap(df_sub, cmap = 'magma')\n",
    "plt.title(\"Subscriber\", y=1.05)\n",
    "plt.xlabel('Weekday', labelpad = 16)\n",
    "plt.ylabel('Start Time Hour', labelpad = 16);\n",
    "plt.show()"
   ]
  },
  {
   "cell_type": "markdown",
   "metadata": {
    "slideshow": {
     "slide_type": "subslide"
    }
   },
   "source": [
    "### The heatmap represents the Subscribers weekly distribution for Start Time of the hour. Most of the Subscribers prefer to start their ride between 7-9am in morning and 4-6pm at evening. Weekend activity of Subscribers are not very strong."
   ]
  },
  {
   "cell_type": "code",
   "execution_count": 33,
   "metadata": {
    "slideshow": {
     "slide_type": "slide"
    }
   },
   "outputs": [
    {
     "data": {
      "image/png": "[encoded data removed]",
      "text/plain": [
       "<Figure size 1080x648 with 2 Axes>"
      ]
     },
     "metadata": {
      "needs_background": "light"
     },
     "output_type": "display_data"
    }
   ],
   "source": [
    "# Heatmap - Subscribers\n",
    "plt.figure(figsize=(15,9))\n",
    "df_cus = df1.query('user_type == \"Customer\"').groupby(['start_hour', 'day_week'])['bike_id'].size().reset_index();\n",
    "df_cus = df_cus.pivot('start_hour', 'day_week', 'bike_id')\n",
    "hot_map = sb.heatmap(df_cus, cmap = 'magma')\n",
    "plt.title(\"Customers\", y=1.05)\n",
    "plt.xlabel('Weekday', labelpad = 16)\n",
    "plt.ylabel('Start Time Hour', labelpad = 16);\n",
    "plt.show()"
   ]
  },
  {
   "cell_type": "markdown",
   "metadata": {
    "slideshow": {
     "slide_type": "subslide"
    }
   },
   "source": [
    "### The heatmap represents the Customers weekly distribution for Start Time of the hour. Most of the Customers prefer to start their ride between 8-9am in morning and 4-7pm at evening. Also during weekends they ride between 11am-6pm."
   ]
  },
  {
   "cell_type": "code",
   "execution_count": 34,
   "metadata": {
    "slideshow": {
     "slide_type": "slide"
    }
   },
   "outputs": [
    {
     "data": {
      "image/png": "[encoded data removed]",
      "text/plain": [
       "<Figure size 720x360 with 2 Axes>"
      ]
     },
     "metadata": {
      "needs_background": "light"
     },
     "output_type": "display_data"
    }
   ],
   "source": [
    "data_ = df1.query('dur_min < 30')\n",
    "g = sb.catplot(data=data_, y='dur_min', col=\"user_type\", kind='box');\n",
    "g.set_titles(col_template = '{col_name}')\n",
    "g.set_axis_labels(\"\", \"Duration (in Minutes)\")\n",
    "g.fig.suptitle(' Duration (Min) by User Type');"
   ]
  },
  {
   "cell_type": "code",
   "execution_count": 35,
   "metadata": {
    "slideshow": {
     "slide_type": "skip"
    }
   },
   "outputs": [
    {
     "data": {
      "text/html": [
       "<div>\n",
       "<style scoped>\n",
       "    .dataframe tbody tr th:only-of-type {\n",
       "        vertical-align: middle;\n",
       "    }\n",
       "\n",
       "    .dataframe tbody tr th {\n",
       "        vertical-align: top;\n",
       "    }\n",
       "\n",
       "    .dataframe thead th {\n",
       "        text-align: right;\n",
       "    }\n",
       "</style>\n",
       "<table border=\"1\" class=\"dataframe\">\n",
       "  <thead>\n",
       "    <tr style=\"text-align: right;\">\n",
       "      <th></th>\n",
       "      <th>duration_sec</th>\n",
       "      <th>start_time</th>\n",
       "      <th>end_time</th>\n",
       "      <th>start_station_id</th>\n",
       "      <th>start_station_name</th>\n",
       "      <th>start_station_latitude</th>\n",
       "      <th>start_station_longitude</th>\n",
       "      <th>end_station_id</th>\n",
       "      <th>end_station_name</th>\n",
       "      <th>end_station_latitude</th>\n",
       "      <th>end_station_longitude</th>\n",
       "      <th>bike_id</th>\n",
       "      <th>user_type</th>\n",
       "      <th>bike_share_for_all_trip</th>\n",
       "      <th>rental_access_method</th>\n",
       "      <th>start_date</th>\n",
       "      <th>start_hour</th>\n",
       "      <th>day_week</th>\n",
       "      <th>start_month</th>\n",
       "      <th>dur_min</th>\n",
       "    </tr>\n",
       "  </thead>\n",
       "  <tbody>\n",
       "    <tr>\n",
       "      <th>0</th>\n",
       "      <td>80825</td>\n",
       "      <td>2019-01-31 17:57:44.613</td>\n",
       "      <td>2019-02-01 16:24:49.864</td>\n",
       "      <td>229.0</td>\n",
       "      <td>Foothill Blvd at 42nd Ave</td>\n",
       "      <td>37.775745</td>\n",
       "      <td>-122.213037</td>\n",
       "      <td>196.0</td>\n",
       "      <td>Grand Ave at Perkins St</td>\n",
       "      <td>37.808894</td>\n",
       "      <td>-122.256460</td>\n",
       "      <td>4861</td>\n",
       "      <td>Subscriber</td>\n",
       "      <td>No</td>\n",
       "      <td>NaN</td>\n",
       "      <td>2019-01-31</td>\n",
       "      <td>17</td>\n",
       "      <td>Thursday</td>\n",
       "      <td>January</td>\n",
       "      <td>1347</td>\n",
       "    </tr>\n",
       "    <tr>\n",
       "      <th>1</th>\n",
       "      <td>65900</td>\n",
       "      <td>2019-01-31 20:58:33.886</td>\n",
       "      <td>2019-02-01 15:16:54.173</td>\n",
       "      <td>4.0</td>\n",
       "      <td>Cyril Magnin St at Ellis St</td>\n",
       "      <td>37.785881</td>\n",
       "      <td>-122.408915</td>\n",
       "      <td>134.0</td>\n",
       "      <td>Valencia St at 24th St</td>\n",
       "      <td>37.752428</td>\n",
       "      <td>-122.420628</td>\n",
       "      <td>5506</td>\n",
       "      <td>Subscriber</td>\n",
       "      <td>No</td>\n",
       "      <td>NaN</td>\n",
       "      <td>2019-01-31</td>\n",
       "      <td>20</td>\n",
       "      <td>Thursday</td>\n",
       "      <td>January</td>\n",
       "      <td>1098</td>\n",
       "    </tr>\n",
       "    <tr>\n",
       "      <th>2</th>\n",
       "      <td>62633</td>\n",
       "      <td>2019-01-31 18:06:52.924</td>\n",
       "      <td>2019-02-01 11:30:46.530</td>\n",
       "      <td>245.0</td>\n",
       "      <td>Downtown Berkeley BART</td>\n",
       "      <td>37.870139</td>\n",
       "      <td>-122.268422</td>\n",
       "      <td>157.0</td>\n",
       "      <td>65th St at Hollis St</td>\n",
       "      <td>37.846784</td>\n",
       "      <td>-122.291376</td>\n",
       "      <td>2717</td>\n",
       "      <td>Customer</td>\n",
       "      <td>No</td>\n",
       "      <td>NaN</td>\n",
       "      <td>2019-01-31</td>\n",
       "      <td>18</td>\n",
       "      <td>Thursday</td>\n",
       "      <td>January</td>\n",
       "      <td>1043</td>\n",
       "    </tr>\n",
       "    <tr>\n",
       "      <th>3</th>\n",
       "      <td>44680</td>\n",
       "      <td>2019-01-31 19:46:09.719</td>\n",
       "      <td>2019-02-01 08:10:50.318</td>\n",
       "      <td>85.0</td>\n",
       "      <td>Church St at Duboce Ave</td>\n",
       "      <td>37.770083</td>\n",
       "      <td>-122.429156</td>\n",
       "      <td>53.0</td>\n",
       "      <td>Grove St at Divisadero</td>\n",
       "      <td>37.775946</td>\n",
       "      <td>-122.437777</td>\n",
       "      <td>4557</td>\n",
       "      <td>Customer</td>\n",
       "      <td>No</td>\n",
       "      <td>NaN</td>\n",
       "      <td>2019-01-31</td>\n",
       "      <td>19</td>\n",
       "      <td>Thursday</td>\n",
       "      <td>January</td>\n",
       "      <td>744</td>\n",
       "    </tr>\n",
       "    <tr>\n",
       "      <th>4</th>\n",
       "      <td>60709</td>\n",
       "      <td>2019-01-31 14:19:01.541</td>\n",
       "      <td>2019-02-01 07:10:51.065</td>\n",
       "      <td>16.0</td>\n",
       "      <td>Steuart St at Market St</td>\n",
       "      <td>37.794130</td>\n",
       "      <td>-122.394430</td>\n",
       "      <td>28.0</td>\n",
       "      <td>The Embarcadero at Bryant St</td>\n",
       "      <td>37.787168</td>\n",
       "      <td>-122.388098</td>\n",
       "      <td>2100</td>\n",
       "      <td>Customer</td>\n",
       "      <td>No</td>\n",
       "      <td>NaN</td>\n",
       "      <td>2019-01-31</td>\n",
       "      <td>14</td>\n",
       "      <td>Thursday</td>\n",
       "      <td>January</td>\n",
       "      <td>1011</td>\n",
       "    </tr>\n",
       "  </tbody>\n",
       "</table>\n",
       "</div>"
      ],
      "text/plain": [
       "   duration_sec              start_time                end_time  \\\n",
       "0         80825 2019-01-31 17:57:44.613 2019-02-01 16:24:49.864   \n",
       "1         65900 2019-01-31 20:58:33.886 2019-02-01 15:16:54.173   \n",
       "2         62633 2019-01-31 18:06:52.924 2019-02-01 11:30:46.530   \n",
       "3         44680 2019-01-31 19:46:09.719 2019-02-01 08:10:50.318   \n",
       "4         60709 2019-01-31 14:19:01.541 2019-02-01 07:10:51.065   \n",
       "\n",
       "  start_station_id           start_station_name  start_station_latitude  \\\n",
       "0            229.0    Foothill Blvd at 42nd Ave               37.775745   \n",
       "1              4.0  Cyril Magnin St at Ellis St               37.785881   \n",
       "2            245.0       Downtown Berkeley BART               37.870139   \n",
       "3             85.0      Church St at Duboce Ave               37.770083   \n",
       "4             16.0      Steuart St at Market St               37.794130   \n",
       "\n",
       "   start_station_longitude  end_station_id              end_station_name  \\\n",
       "0              -122.213037           196.0       Grand Ave at Perkins St   \n",
       "1              -122.408915           134.0        Valencia St at 24th St   \n",
       "2              -122.268422           157.0          65th St at Hollis St   \n",
       "3              -122.429156            53.0        Grove St at Divisadero   \n",
       "4              -122.394430            28.0  The Embarcadero at Bryant St   \n",
       "\n",
       "   end_station_latitude  end_station_longitude bike_id   user_type  \\\n",
       "0             37.808894            -122.256460    4861  Subscriber   \n",
       "1             37.752428            -122.420628    5506  Subscriber   \n",
       "2             37.846784            -122.291376    2717    Customer   \n",
       "3             37.775946            -122.437777    4557    Customer   \n",
       "4             37.787168            -122.388098    2100    Customer   \n",
       "\n",
       "  bike_share_for_all_trip rental_access_method  start_date start_hour  \\\n",
       "0                      No                  NaN  2019-01-31         17   \n",
       "1                      No                  NaN  2019-01-31         20   \n",
       "2                      No                  NaN  2019-01-31         18   \n",
       "3                      No                  NaN  2019-01-31         19   \n",
       "4                      No                  NaN  2019-01-31         14   \n",
       "\n",
       "   day_week start_month  dur_min  \n",
       "0  Thursday     January     1347  \n",
       "1  Thursday     January     1098  \n",
       "2  Thursday     January     1043  \n",
       "3  Thursday     January      744  \n",
       "4  Thursday     January     1011  "
      ]
     },
     "execution_count": 35,
     "metadata": {},
     "output_type": "execute_result"
    }
   ],
   "source": [
    "df1.head()"
   ]
  },
  {
   "cell_type": "code",
   "execution_count": 36,
   "metadata": {
    "slideshow": {
     "slide_type": "slide"
    }
   },
   "outputs": [
    {
     "data": {
      "text/plain": [
       "<Figure size 841.68x595.44 with 0 Axes>"
      ]
     },
     "metadata": {},
     "output_type": "display_data"
    },
    {
     "data": {
      "image/png": "[encoded data removed]",
      "text/plain": [
       "<Figure size 720x360 with 2 Axes>"
      ]
     },
     "metadata": {
      "needs_background": "light"
     },
     "output_type": "display_data"
    }
   ],
   "source": [
    "# Customer Usage by Duration vs. Subscriber Usage by Duration\n",
    "plt.figure(figsize=[ 11.69, 8.27]);\n",
    "\n",
    "data = df1.query('dur_min < 30')\n",
    "\n",
    "graph = sb.catplot(data=data, y = 'dur_min', col='user_type', kind='count', sharey = False, color = base_color);\n",
    "\n",
    "graph.set_axis_labels('Duration (Min)', 'Number of Bike Trips')\n",
    "graph.set_titles('{col_name}')\n",
    "\n",
    "graph.fig.suptitle('Ford GoBike System - Duration (Min) by User Type', y=1.05, fontsize=16, fontweight='bold');\n",
    "graph.set_xticklabels(rotation=75);"
   ]
  },
  {
   "cell_type": "markdown",
   "metadata": {
    "slideshow": {
     "slide_type": "subslide"
    }
   },
   "source": [
    "### By comparing both the box plots we conclude that the ride duration(in minutes) for Customer typically have trip durations that are longer (8 to 18 minutes ) than for subscribers (5 to 12 )."
   ]
  },
  {
   "cell_type": "markdown",
   "metadata": {
    "slideshow": {
     "slide_type": "slide"
    }
   },
   "source": [
    "# CONCLUSIONS \n",
    "### In this project I've investigated the dataset of FordGoBike Data for the year 2019(January-December) and from the visualization drawn few conclusion listed below.\n",
    "1. From the two user types of FordGoBike data, the counts of Subscribers are around 3 times more than the Customers.\n",
    "\n",
    "2. 90% of the users tend to share their bike for all trips in which only Subscribers contribute. None of the Customers tend to share their bike for all trips.\n",
    "\n",
    "3. As a Start Day of the Trip, Tuesday and Thursday have the highest frequency of users. While the weekends have the lowest number of users.\n",
    "\n",
    "4. April and July are the months when the user count is the most while December has the lowest count.\n",
    "\n",
    "5. Most of the trip duration last within the range of 5-10 minutes.\n",
    "\n",
    "6. For different hours of the day, at 8am in morning and the evening 5pm are the hours where the bikes are most used by the users.\n",
    "\n",
    "7. Subscribers rides are much shorter compared to those of the customers on everyday of the week. The trend line seems to increase on weekends, especially for customer user type .\n",
    "\n",
    "8. The heatmap represents the Subscribers weekly distribution for Start Time of the hour. Most of the Subscribers prefer to start their ride between 7-9am in morning and 4-6pm at evening. Weekend activity of Subscribers are not very strong. The Customers weekly distribution for Start Time of the hour. Most of the Customers prefer to start their ride between 8-9am in morning and 4-7pm at evening. Also during weekends they ride between 11am-6pm.\n",
    "\n",
    "9. Most of the trip duration last within the range of 5-10 minutes. Also almost none of them are used for more that a hour. The box plots we have conclude that the ride duration(in minutes) for Customer typically have trip durations that are longer (8 to 18 minutes ) than for subscribers (5 to 12 )."
   ]
  },
  {
   "cell_type": "markdown",
   "metadata": {
    "slideshow": {
     "slide_type": "subslide"
    }
   },
   "source": [
    "## Limitations\n",
    "1. The rental_access_method column does not have enough values to draw some conclusion from them.\n",
    "2. The Gender wise bike distribution could give a more percise insights for the data.\n",
    "3. Overlaying external data sources onto this data set such as traffic or weather could allow us to better understand influencers on number of users."
   ]
  },
  {
   "cell_type": "markdown",
   "metadata": {
    "slideshow": {
     "slide_type": "skip"
    }
   },
   "source": [
    "## References\n",
    "Numpy Documentation  \n",
    "Stack Overflow  \n",
    "MatplotLib Documenation"
   ]
  },
  {
   "cell_type": "code",
   "execution_count": null,
   "metadata": {},
   "outputs": [],
   "source": [
    "!jupyter nbconvert Visual1.ipynb --to slides --template output-toggle-Copy1.tpl --post serve"
   ]
  },
  {
   "cell_type": "code",
   "execution_count": null,
   "metadata": {},
   "outputs": [],
   "source": []
  }
 ],
 "metadata": {
  "celltoolbar": "Slideshow",
  "kernelspec": {
   "display_name": "Python 3",
   "language": "python",
   "name": "python3"
  },
  "language_info": {
   "codemirror_mode": {
    "name": "ipython",
    "version": 3
   },
   "file_extension": ".py",
   "mimetype": "text/x-python",
   "name": "python",
   "nbconvert_exporter": "python",
   "pygments_lexer": "ipython3",
   "version": "3.7.6"
  }
 },
 "nbformat": 4,
 "nbformat_minor": 4
}
